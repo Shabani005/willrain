{
 "cells": [
  {
   "cell_type": "code",
   "execution_count": null,
   "id": "08ea6bda",
   "metadata": {},
   "outputs": [],
   "source": [
    "%pip install requests \n",
    "%pip install beautifulsoup4"
   ]
  },
  {
   "cell_type": "code",
   "execution_count": null,
   "id": "2b79d216",
   "metadata": {},
   "outputs": [],
   "source": [
    "import requests\n",
    "from dotenv import load_dotenv\n",
    "import os\n",
    "from bs4 import BeautifulSoup\n",
    "import urllib.parse"
   ]
  },
  {
   "cell_type": "code",
   "execution_count": null,
   "id": "8728fbdf",
   "metadata": {},
   "outputs": [],
   "source": [
    "def get_first_file(year, doy):\n",
    "    u = (\n",
    "        f\"https://gpm1.gesdisc.eosdis.nasa.gov/opendap/\"\n",
    "        f\"GPM_L2/GPM_2AKu.07/{year}/{doy:03d}/contents.html\"\n",
    "    )\n",
    "    r = requests.get(u)\n",
    "    if not r.ok:\n",
    "        return None\n",
    "    s = BeautifulSoup(r.text, \"html.parser\")\n",
    "    for a in s.find_all(\"a\"):\n",
    "        h = a.get(\"href\", \"\")\n",
    "        if h.endswith(\".HDF5.dmr.html\"):\n",
    "            return h.replace(\".dmr.html\", \"\")\n",
    "    return None"
   ]
  },
  {
   "cell_type": "code",
   "execution_count": null,
   "id": "a30166cf",
   "metadata": {},
   "outputs": [],
   "source": [
    "def get_first_hdf5(url: str) -> str:\n",
    "    html = requests.get(url).text\n",
    "    soup = BeautifulSoup(html, \"html.parser\")\n",
    "    for link in soup.find_all(\"a\", href=True):\n",
    "        if link[\"href\"].endswith(\".HDF5\"):\n",
    "            return urllib.parse.urljoin(url, link[\"href\"])\n",
    "    return None"
   ]
  },
  {
   "cell_type": "code",
   "execution_count": null,
   "id": "b43d696a",
   "metadata": {},
   "outputs": [],
   "source": [
    "def download_file(u, f):\n",
    "    r = requests.get(u)\n",
    "    r.raise_for_status()\n",
    "    with open(os.path.join(\"data\", f), \"wb\") as file:\n",
    "        file.write(r.content)"
   ]
  },
  {
   "cell_type": "code",
   "execution_count": null,
   "id": "5494b7c2",
   "metadata": {},
   "outputs": [],
   "source": [
    "b = \"https://gpm1.gesdisc.eosdis.nasa.gov/opendap/GPM_L2/GPM_2AKu.07\"\n",
    "t = \"?dap4.ce=/FS_Longitude[0:1:20][0:1:20];/FS_Latitude[0:1:20][0:1:20];/FS_VER_airTemperature[0:1:20][0:1:20][0:1:20];/FS_PRE_flagPrecip[0:1:20][0:1:20];/FS_SLV_precipWater[0:1:20][0:1:20][0:1:20];/FS_SLV_precipWaterIntegrated[0:1:20][0:1:20][0:1:1];/FS_ScanTime_Year[0:1:20];/FS_ScanTime_Month[0:1:20]\"\n",
    "os.makedirs(\"data\", exist_ok=True)\n",
    "\n",
    "for y in [2016, 2017, 2018]:\n",
    "    for i in range(20):\n",
    "        f = get_first_file(y, i)\n",
    "        if f:\n",
    "            nc4_filename = f\"{f}.dap.nc4\"\n",
    "            file_path = os.path.join(\"data\", nc4_filename)\n",
    "            if os.path.exists(file_path):\n",
    "                print(f\"File {nc4_filename} already exists. Skipping download.\")\n",
    "                continue\n",
    "            u = f\"{b}/{y}/{i:03d}/{f}.dap.nc4{t}\"\n",
    "            print(f\"Downloading {nc4_filename}...\")\n",
    "            download_file(u, nc4_filename)"
   ]
  }
 ],
 "metadata": {
  "language_info": {
   "name": "python"
  }
 },
 "nbformat": 4,
 "nbformat_minor": 5
}
