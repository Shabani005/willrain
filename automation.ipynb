{
 "cells": [
  {
   "cell_type": "code",
   "execution_count": 1,
   "id": "a2aa0261",
   "metadata": {},
   "outputs": [
    {
     "name": "stdout",
     "output_type": "stream",
     "text": [
      "Requirement already satisfied: requests in c:\\users\\hasan\\anaconda3\\lib\\site-packages (2.32.2)\n",
      "Requirement already satisfied: charset-normalizer<4,>=2 in c:\\users\\hasan\\anaconda3\\lib\\site-packages (from requests) (2.0.4)\n",
      "Requirement already satisfied: idna<4,>=2.5 in c:\\users\\hasan\\anaconda3\\lib\\site-packages (from requests) (3.7)\n",
      "Requirement already satisfied: urllib3<3,>=1.21.1 in c:\\users\\hasan\\anaconda3\\lib\\site-packages (from requests) (2.2.2)\n",
      "Requirement already satisfied: certifi>=2017.4.17 in c:\\users\\hasan\\anaconda3\\lib\\site-packages (from requests) (2024.8.30)\n",
      "Note: you may need to restart the kernel to use updated packages.\n"
     ]
    }
   ],
   "source": [
    "%pip install requests "
   ]
  },
  {
   "cell_type": "code",
   "execution_count": null,
   "id": "f51e47b7",
   "metadata": {},
   "outputs": [],
   "source": [
    "import requests\n",
    "from requests.auth import HTTPBasicAuth\n",
    "from dotenv import load_dotenv\n",
    "import os"
   ]
  },
  {
   "cell_type": "code",
   "execution_count": 25,
   "id": "54b06e23",
   "metadata": {},
   "outputs": [],
   "source": [
    "def download_file(url, filename):\n",
    "    load_dotenv()\n",
    "    usr = os.getenv(\"USERNAME\")\n",
    "    pswd = os.getenv(\"PASSWORD\")\n",
    "    session = requests.Session()\n",
    "    session.auth = (usr, pswd)\n",
    "    response = session.get(url)\n",
    "    response.raise_for_status()  \n",
    "    with open(f\"{filename}\", \"wb\") as file:\n",
    "        file.write(response.content)"
   ]
  },
  {
   "cell_type": "code",
   "execution_count": 27,
   "id": "9f43044d",
   "metadata": {},
   "outputs": [],
   "source": [
    "url = \"https://gpm1.gesdisc.eosdis.nasa.gov/opendap/GPM_L2/GPM_2AKu.07/2014/067/2A.GPM.Ku.V9-20211125.20140308-S220950-E234217.000144.V07A.HDF5.dap.csv?dap4.ce=/FS_navigation_scAlt[0:1:79]\"\n",
    "download_file(url=url, filename=\"test2.csv\")"
   ]
  }
 ],
 "metadata": {
  "kernelspec": {
   "display_name": "base",
   "language": "python",
   "name": "python3"
  },
  "language_info": {
   "codemirror_mode": {
    "name": "ipython",
    "version": 3
   },
   "file_extension": ".py",
   "mimetype": "text/x-python",
   "name": "python",
   "nbconvert_exporter": "python",
   "pygments_lexer": "ipython3",
   "version": "3.12.4"
  }
 },
 "nbformat": 4,
 "nbformat_minor": 5
}
